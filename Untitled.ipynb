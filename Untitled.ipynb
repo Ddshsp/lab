{
 "cells": [
  {
   "cell_type": "code",
   "execution_count": 4,
   "id": "1c9a7f49-970e-4328-a36a-e0ec0c3a2b0a",
   "metadata": {},
   "outputs": [
    {
     "name": "stdout",
     "output_type": "stream",
     "text": [
      "0.59\n",
      "Среднее значение по первому столбцу: 0.59\n"
     ]
    },
    {
     "name": "stderr",
     "output_type": "stream",
     "text": [
      "/home/danil/.local/lib/python3.10/site-packages/sklearn/preprocessing/_encoders.py:975: FutureWarning: `sparse` was renamed to `sparse_output` in version 1.2 and will be removed in 1.4. `sparse_output` is ignored unless you leave `sparse` to its default value.\n",
      "  warnings.warn(\n"
     ]
    }
   ],
   "source": [
    "import numpy as np\n",
    "import pandas as pd\n",
    "from sklearn.preprocessing import OneHotEncoder\n",
    "\n",
    "# Установка seed для воспроизводимости результатов\n",
    "np.random.seed(1000)\n",
    "n = 100\n",
    "\n",
    "# Создание датафрейма\n",
    "df = pd.DataFrame(np.random.choice(['male', 'female'], p=(0.4, 0.6), size=n), columns=['gender'])\n",
    "\n",
    "# Применение OneHotEncoder\n",
    "encoder = OneHotEncoder(sparse=False)\n",
    "encoded_data = encoder.fit_transform(df[['gender']])\n",
    "\n",
    "# Создание нового датафрейма с закодированными данными\n",
    "encoded_df = pd.DataFrame(encoded_data, columns=encoder.get_feature_names_out(['gender']))\n",
    "print(encoded_df.iloc[:, 0].mean())\n",
    "# Вычисление среднего значения по первому столбцу и округление до двух знаков после запятой\n",
    "mean_value = round(encoded_df.iloc[:, 0].mean(), 2)\n",
    "\n",
    "print(f\"Среднее значение по первому столбцу: {mean_value}\")\n"
   ]
  },
  {
   "cell_type": "code",
   "execution_count": 5,
   "id": "ee90f1e8-ba4f-4a07-a50a-3c721c3ccf6f",
   "metadata": {},
   "outputs": [
    {
     "name": "stdout",
     "output_type": "stream",
     "text": [
      "4.92602984878614\n",
      "Медиана: 4.93\n"
     ]
    },
    {
     "name": "stderr",
     "output_type": "stream",
     "text": [
      "/tmp/ipykernel_48890/583667961.py:11: FutureWarning: Series.fillna with 'method' is deprecated and will raise in a future version. Use obj.ffill() or obj.bfill() instead.\n",
      "  df['values'].fillna(method='bfill', inplace=True)\n"
     ]
    }
   ],
   "source": [
    "import numpy as np\n",
    "import pandas as pd\n",
    "\n",
    "np.random.seed(1000)\n",
    "n = 100\n",
    "\n",
    "df = pd.DataFrame(np.random.normal(5, 1, size=n), columns=['values'])\n",
    "df.iloc[np.random.randint(0, n, 5)] = None\n",
    "\n",
    "# Замена пропущенных значений на следующие непропущенные\n",
    "df['values'].fillna(method='bfill', inplace=True)\n",
    "\n",
    "# Вычисление медианы\n",
    "median_value = df['values'].median()\n",
    "print(median_value)\n",
    "# Округление медианы до 2-х знаков\n",
    "median_value_rounded = round(median_value, 2)\n",
    "\n",
    "print(f\"Медиана: {median_value_rounded}\")\n"
   ]
  },
  {
   "cell_type": "code",
   "execution_count": 7,
   "id": "edb3796e-2ee8-4645-9acc-d56fb0a4aeba",
   "metadata": {},
   "outputs": [
    {
     "name": "stdout",
     "output_type": "stream",
     "text": [
      "4.9424607565333885\n",
      "Медиана: 4.94\n"
     ]
    },
    {
     "name": "stderr",
     "output_type": "stream",
     "text": [
      "/tmp/ipykernel_48890/1944482802.py:11: FutureWarning: Series.fillna with 'method' is deprecated and will raise in a future version. Use obj.ffill() or obj.bfill() instead.\n",
      "  df['values'].fillna(method='ffill', inplace=True)\n"
     ]
    }
   ],
   "source": [
    "import numpy as np\n",
    "import pandas as pd\n",
    "\n",
    "np.random.seed(1000)\n",
    "n = 100\n",
    "\n",
    "df = pd.DataFrame(np.random.normal(5, 1, size=n), columns=['values'])\n",
    "df.iloc[np.random.randint(0, n, 5)] = None\n",
    "\n",
    "# Замена пропущенных значений на предыдущие непропущенные\n",
    "df['values'].fillna(method='ffill', inplace=True)\n",
    "\n",
    "# Вычисление медианы\n",
    "median_value = df['values'].median()\n",
    "print(median_value)\n",
    "# Округление медианы до 2-х знаков\n",
    "median_value_rounded = round(median_value, 2)\n",
    "\n",
    "print(f\"Медиана: {median_value_rounded}\")\n"
   ]
  },
  {
   "cell_type": "code",
   "execution_count": null,
   "id": "b0c2fec5-e700-4b07-ad2c-c44a0ff50cb6",
   "metadata": {},
   "outputs": [],
   "source": []
  }
 ],
 "metadata": {
  "kernelspec": {
   "display_name": "Python 3 (ipykernel)",
   "language": "python",
   "name": "python3"
  },
  "language_info": {
   "codemirror_mode": {
    "name": "ipython",
    "version": 3
   },
   "file_extension": ".py",
   "mimetype": "text/x-python",
   "name": "python",
   "nbconvert_exporter": "python",
   "pygments_lexer": "ipython3",
   "version": "3.10.12"
  }
 },
 "nbformat": 4,
 "nbformat_minor": 5
}
