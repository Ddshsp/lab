{
  "nbformat": 4,
  "nbformat_minor": 0,
  "metadata": {
    "colab": {
      "provenance": [],
      "include_colab_link": true
    },
    "kernelspec": {
      "name": "python3",
      "display_name": "Python 3"
    },
    "language_info": {
      "name": "python"
    }
  },
  "cells": [
    {
      "cell_type": "markdown",
      "metadata": {
        "id": "view-in-github",
        "colab_type": "text"
      },
      "source": [
        "<a href=\"https://colab.research.google.com/github/Ddshsp/lab/blob/main/%D0%A8%D0%94%D0%94_%D0%9B%D0%A04_2024.ipynb\" target=\"_parent\"><img src=\"https://colab.research.google.com/assets/colab-badge.svg\" alt=\"Open In Colab\"/></a>"
      ]
    },
    {
      "cell_type": "code",
      "source": [
        "import pandas as pd\n",
        "import numpy as np\n",
        "from contextlib import contextmanager\n",
        "from time import perf_counter\n",
        "from typing import Callable"
      ],
      "metadata": {
        "id": "dssZ1f-SJFfO"
      },
      "execution_count": null,
      "outputs": []
    },
    {
      "cell_type": "code",
      "execution_count": null,
      "metadata": {
        "id": "YxUYQTo5JEFF"
      },
      "outputs": [],
      "source": [
        "@contextmanager\n",
        "def measure_time() -> Callable[[], float]:\n",
        "    begin = perf_counter()\n",
        "    yield lambda: perf_counter() - begin\n",
        "    print(f'Duration: {perf_counter() - begin:.3f} seconds')"
      ]
    },
    {
      "cell_type": "code",
      "source": [
        "from time import perf_counter, sleep\n",
        "from contextlib import contextmanager\n",
        "from typing import Callable\n",
        "\n",
        "@contextmanager\n",
        "def time_tracker() -> Callable[[], float]:\n",
        "    initial_time = perf_counter()\n",
        "    yield lambda: perf_counter() - initial_time\n",
        "    print(f'Elapsed time: {perf_counter() - initial_time:.3f} seconds')\n"
      ],
      "metadata": {
        "id": "Krx_10tqJKmU"
      },
      "execution_count": null,
      "outputs": []
    },
    {
      "cell_type": "code",
      "source": [
        "\n",
        "!apt-get install openjdk-8-jdk-headless -qq > /dev/null\n",
        "!wget https://downloads.apache.org/spark/spark-3.5.3/spark-3.5.3-bin-hadoop3.tgz\n",
        "!tar xf spark-3.5.3-bin-hadoop3.tgz\n",
        "!ls -la\n",
        "!pwd"
      ],
      "metadata": {
        "colab": {
          "base_uri": "https://localhost:8080/"
        },
        "id": "itlN1-VUJLTS",
        "outputId": "8608cbc3-c0c3-4b39-a274-0b71b0942d92"
      },
      "execution_count": null,
      "outputs": [
        {
          "output_type": "stream",
          "name": "stdout",
          "text": [
            "--2024-12-02 19:06:44--  https://downloads.apache.org/spark/spark-3.5.3/spark-3.5.3-bin-hadoop3.tgz\n",
            "Resolving downloads.apache.org (downloads.apache.org)... 135.181.214.104, 88.99.208.237, 2a01:4f9:3a:2c57::2, ...\n",
            "Connecting to downloads.apache.org (downloads.apache.org)|135.181.214.104|:443... connected.\n",
            "HTTP request sent, awaiting response... 200 OK\n",
            "Length: 400864419 (382M) [application/x-gzip]\n",
            "Saving to: ‘spark-3.5.3-bin-hadoop3.tgz.2’\n",
            "\n",
            "spark-3.5.3-bin-had 100%[===================>] 382.29M  12.8MB/s    in 32s     \n",
            "\n",
            "2024-12-02 19:07:17 (11.9 MB/s) - ‘spark-3.5.3-bin-hadoop3.tgz.2’ saved [400864419/400864419]\n",
            "\n",
            "total 1174440\n",
            "drwxr-xr-x  1 root root      4096 Dec  2 19:06 .\n",
            "drwxr-xr-x  1 root root      4096 Dec  2 18:32 ..\n",
            "drwxr-xr-x  4 root root      4096 Nov 25 19:13 .config\n",
            "drwxr-xr-x  5 root root      4096 Dec  2 19:00 output\n",
            "drwxr-xr-x  1 root root      4096 Nov 25 19:13 sample_data\n",
            "drwxr-xr-x 13 1000 1000      4096 Sep  9 05:33 spark-3.5.3-bin-hadoop3\n",
            "-rw-r--r--  1 root root 400864419 Sep  9 05:35 spark-3.5.3-bin-hadoop3.tgz\n",
            "-rw-r--r--  1 root root 400864419 Sep  9 05:35 spark-3.5.3-bin-hadoop3.tgz.1\n",
            "-rw-r--r--  1 root root 400864419 Sep  9 05:35 spark-3.5.3-bin-hadoop3.tgz.2\n",
            "/content\n"
          ]
        }
      ]
    },
    {
      "cell_type": "code",
      "source": [
        "!export JAVA_HOME=/usr/lib/jvm/java-8-openjdk-amd64\n",
        "!export SPARK_HOME=/content/spark-3.5.3-bin-hadoop3"
      ],
      "metadata": {
        "id": "YmQUOPg4JVNj"
      },
      "execution_count": null,
      "outputs": []
    },
    {
      "cell_type": "code",
      "source": [
        "!pip install findspark\n",
        "!echo $SPARK_HOME"
      ],
      "metadata": {
        "colab": {
          "base_uri": "https://localhost:8080/"
        },
        "id": "VT_fatx8Jsyy",
        "outputId": "ba245c94-bfe2-40cb-858c-f6e95a968d84"
      },
      "execution_count": null,
      "outputs": [
        {
          "output_type": "stream",
          "name": "stdout",
          "text": [
            "Requirement already satisfied: findspark in /usr/local/lib/python3.10/dist-packages (2.0.1)\n",
            "/usr/local/lib/python3.10/dist-packages/pyspark\n"
          ]
        }
      ]
    },
    {
      "cell_type": "code",
      "source": [
        "import findspark\n",
        "findspark.init()\n",
        "from pyspark.sql import SparkSession\n",
        "spark = SparkSession.builder.master(\"local[*]\").getOrCreate()"
      ],
      "metadata": {
        "id": "hVldPovxJzXu"
      },
      "execution_count": null,
      "outputs": []
    },
    {
      "cell_type": "code",
      "source": [
        "!ls /content/*"
      ],
      "metadata": {
        "colab": {
          "base_uri": "https://localhost:8080/"
        },
        "id": "C05IlgpXJ5z9",
        "outputId": "027c4c8e-03ac-4b7d-f671-e3d8570718c8"
      },
      "execution_count": null,
      "outputs": [
        {
          "output_type": "stream",
          "name": "stdout",
          "text": [
            "/content/spark-3.5.3-bin-hadoop3.tgz\t/content/spark-3.5.3-bin-hadoop3.tgz.2\n",
            "/content/spark-3.5.3-bin-hadoop3.tgz.1\n",
            "\n",
            "/content/output:\n",
            "data.csv  data.json  data.parquet\n",
            "\n",
            "/content/sample_data:\n",
            "anscombe.json\t\t     california_housing_train.csv  mnist_train_small.csv\n",
            "california_housing_test.csv  mnist_test.csv\t\t   README.md\n",
            "\n",
            "/content/spark-3.5.3-bin-hadoop3:\n",
            "bin   data\tjars\t    LICENSE   NOTICE  R\t\t RELEASE  yarn\n",
            "conf  examples\tkubernetes  licenses  python  README.md  sbin\n"
          ]
        }
      ]
    },
    {
      "cell_type": "code",
      "source": [
        "def func(n: int) -> pd.DataFrame:\n",
        "    data = {\n",
        "        \"gender\": np.random.choice([\"Male\", \"Female\"], n),\n",
        "        \"age\": np.random.randint(18, 65, n),\n",
        "        \"income\": np.random.randint(20000, 150000, n),\n",
        "        \"profession\": np.random.choice([\"Engineer\", \"Doctor\", \"Teacher\", \"Lawyer\"], n),\n",
        "    }\n",
        "    return pd.DataFrame(data)\n",
        "\n",
        "data = func(1_000_000)"
      ],
      "metadata": {
        "id": "JRONghgpLpDq"
      },
      "execution_count": null,
      "outputs": []
    },
    {
      "cell_type": "code",
      "source": [
        "from pyspark.sql import Row\n",
        "\n",
        "# Создание DataFrame из RDD\n",
        "df = spark.createDataFrame(data)\n",
        "rdd = df.rdd\n",
        "\n",
        "# Создание Dataset (аналогично DataFrame, но ориентирован на типы)\n",
        "# В PySpark нет отдельного типа Dataset, поэтому DataFrame используется в качестве Dataset\n",
        "dataset = df\n"
      ],
      "metadata": {
        "id": "WY-zuj2AMYKw"
      },
      "execution_count": null,
      "outputs": []
    },
    {
      "cell_type": "code",
      "source": [
        "!rm -rIf output/*"
      ],
      "metadata": {
        "id": "wfLBcnf3PLSA"
      },
      "execution_count": null,
      "outputs": []
    },
    {
      "cell_type": "code",
      "source": [
        "# Запись DataFrame в CSV\n",
        "%timeit df.write.csv(\"output/data.csv\", header=True, mode=\"overwrite\")\n",
        "\n",
        "# Запись DataFrame в JSON\n",
        "%timeit df.write.json(\"output/data.json\", mode=\"overwrite\")\n",
        "\n",
        "# Запись DataFrame в PARQUET\n",
        "%timeit df.write.parquet(\"output/data.parquet\", mode=\"overwrite\")\n"
      ],
      "metadata": {
        "colab": {
          "base_uri": "https://localhost:8080/"
        },
        "id": "HBCg_IkMMcj-",
        "outputId": "d212c9b3-144c-47fb-be12-d6e8a76b843a"
      },
      "execution_count": null,
      "outputs": [
        {
          "output_type": "stream",
          "name": "stdout",
          "text": [
            "3.59 s ± 670 ms per loop (mean ± std. dev. of 7 runs, 1 loop each)\n",
            "4.03 s ± 1.17 s per loop (mean ± std. dev. of 7 runs, 1 loop each)\n",
            "3.57 s ± 451 ms per loop (mean ± std. dev. of 7 runs, 1 loop each)\n"
          ]
        }
      ]
    },
    {
      "cell_type": "code",
      "source": [
        "# Чтение RDD из CSV\n",
        "%timeit rdd_from_csv = spark.sparkContext.textFile(\"output/data.csv\")\n",
        "\n",
        "# Чтение DataFrame из CSV\n",
        "%timeit df_from_csv = spark.read.csv(\"output/data.csv\", header=True, inferSchema=True)\n"
      ],
      "metadata": {
        "colab": {
          "base_uri": "https://localhost:8080/"
        },
        "id": "qiXjhiKFMdEu",
        "outputId": "911dbe65-1e4c-4767-859c-65018027a2ea"
      },
      "execution_count": null,
      "outputs": [
        {
          "output_type": "stream",
          "name": "stdout",
          "text": [
            "25.5 ms ± 6.7 ms per loop (mean ± std. dev. of 7 runs, 10 loops each)\n",
            "1.74 s ± 353 ms per loop (mean ± std. dev. of 7 runs, 1 loop each)\n"
          ]
        }
      ]
    },
    {
      "cell_type": "code",
      "source": [
        "# Чтение RDD из JSON\n",
        "%timeit rdd_from_json = spark.sparkContext.textFile(\"output/data.json\")\n",
        "\n",
        "# Чтение DataFrame из JSON\n",
        "%timeit df_from_json = spark.read.json(\"output/data.json\")\n"
      ],
      "metadata": {
        "colab": {
          "base_uri": "https://localhost:8080/"
        },
        "id": "PzEVfcXHMf_-",
        "outputId": "c9ac42bc-d602-43e4-e5df-f90c1d61ee83"
      },
      "execution_count": null,
      "outputs": [
        {
          "output_type": "stream",
          "name": "stdout",
          "text": [
            "31.1 ms ± 10.9 ms per loop (mean ± std. dev. of 7 runs, 10 loops each)\n",
            "1.73 s ± 384 ms per loop (mean ± std. dev. of 7 runs, 1 loop each)\n"
          ]
        }
      ]
    },
    {
      "cell_type": "code",
      "source": [
        "# Чтение DataFrame из PARQUET\n",
        "%timeit df_from_parquet = spark.read.parquet(\"output/data.parquet\")\n"
      ],
      "metadata": {
        "colab": {
          "base_uri": "https://localhost:8080/"
        },
        "id": "4qgzd0EBMh74",
        "outputId": "57f166d1-b314-4e20-dc1e-c5179fd060f2"
      },
      "execution_count": null,
      "outputs": [
        {
          "output_type": "stream",
          "name": "stdout",
          "text": [
            "91.8 ms ± 14 ms per loop (mean ± std. dev. of 7 runs, 10 loops each)\n"
          ]
        }
      ]
    },
    {
      "cell_type": "code",
      "source": [
        "# Чтение всех CSV файлов\n",
        "all_csv_rdd = spark.sparkContext.textFile(\"output/*.csv\")\n",
        "header = all_csv_rdd.first()\n",
        "data_rdd = all_csv_rdd.filter(lambda row: row != header).map(lambda row: row.split(\",\"))\n",
        "df_from_rdd = spark.createDataFrame(data_rdd, schema=header.split(\",\"))"
      ],
      "metadata": {
        "id": "3nLDvLh6Mkg5"
      },
      "execution_count": null,
      "outputs": []
    },
    {
      "cell_type": "code",
      "source": [
        "df_from_rdd.take(10)"
      ],
      "metadata": {
        "colab": {
          "base_uri": "https://localhost:8080/"
        },
        "id": "8NEc-g0yQcer",
        "outputId": "e2adf497-d7ff-43fc-cf0b-20165926fbcb"
      },
      "execution_count": null,
      "outputs": [
        {
          "output_type": "execute_result",
          "data": {
            "text/plain": [
              "[Row(gender='Male', age='53', income='146783', profession='Teacher'),\n",
              " Row(gender='Male', age='38', income='102661', profession='Doctor'),\n",
              " Row(gender='Male', age='63', income='27239', profession='Engineer'),\n",
              " Row(gender='Male', age='49', income='133171', profession='Lawyer'),\n",
              " Row(gender='Female', age='33', income='144383', profession='Doctor'),\n",
              " Row(gender='Female', age='24', income='95867', profession='Engineer'),\n",
              " Row(gender='Male', age='52', income='112093', profession='Engineer'),\n",
              " Row(gender='Male', age='32', income='50041', profession='Doctor'),\n",
              " Row(gender='Female', age='45', income='26404', profession='Lawyer'),\n",
              " Row(gender='Male', age='55', income='42273', profession='Lawyer')]"
            ]
          },
          "metadata": {},
          "execution_count": 83
        }
      ]
    },
    {
      "cell_type": "code",
      "source": [
        "df_from_rdd.show(10)\n"
      ],
      "metadata": {
        "colab": {
          "base_uri": "https://localhost:8080/"
        },
        "id": "DN27jUk-MpJa",
        "outputId": "b9b12ecf-93e7-4dd5-a051-906c3e5744ed"
      },
      "execution_count": null,
      "outputs": [
        {
          "output_type": "stream",
          "name": "stdout",
          "text": [
            "+------+---+------+----------+\n",
            "|gender|age|income|profession|\n",
            "+------+---+------+----------+\n",
            "|  Male| 53|146783|   Teacher|\n",
            "|  Male| 38|102661|    Doctor|\n",
            "|  Male| 63| 27239|  Engineer|\n",
            "|  Male| 49|133171|    Lawyer|\n",
            "|Female| 33|144383|    Doctor|\n",
            "|Female| 24| 95867|  Engineer|\n",
            "|  Male| 52|112093|  Engineer|\n",
            "|  Male| 32| 50041|    Doctor|\n",
            "|Female| 45| 26404|    Lawyer|\n",
            "|  Male| 55| 42273|    Lawyer|\n",
            "+------+---+------+----------+\n",
            "only showing top 10 rows\n",
            "\n"
          ]
        }
      ]
    },
    {
      "cell_type": "code",
      "source": [
        "filtered_df = df_from_rdd.filter((df_from_rdd.age >= 25) & (df_from_rdd.age <= 50))\n",
        "filtered_df.show()\n"
      ],
      "metadata": {
        "colab": {
          "base_uri": "https://localhost:8080/"
        },
        "id": "XijkIw2qMpqX",
        "outputId": "b60be36d-9ae4-4b74-f182-ebf770b9415e"
      },
      "execution_count": null,
      "outputs": [
        {
          "output_type": "stream",
          "name": "stdout",
          "text": [
            "+------+---+------+----------+\n",
            "|gender|age|income|profession|\n",
            "+------+---+------+----------+\n",
            "|  Male| 38|102661|    Doctor|\n",
            "|  Male| 49|133171|    Lawyer|\n",
            "|Female| 33|144383|    Doctor|\n",
            "|  Male| 32| 50041|    Doctor|\n",
            "|Female| 45| 26404|    Lawyer|\n",
            "|Female| 33|130449|    Lawyer|\n",
            "|Female| 45| 29300|  Engineer|\n",
            "|Female| 47| 76500|   Teacher|\n",
            "|Female| 46| 81486|    Doctor|\n",
            "|  Male| 31| 76713|    Lawyer|\n",
            "|  Male| 41| 78577|  Engineer|\n",
            "|  Male| 42| 23073|  Engineer|\n",
            "|Female| 38|145958|  Engineer|\n",
            "|Female| 44|149150|   Teacher|\n",
            "|Female| 48| 71664|   Teacher|\n",
            "|Female| 44| 94780|    Doctor|\n",
            "|Female| 46| 20099|    Doctor|\n",
            "|Female| 28|134153|  Engineer|\n",
            "|  Male| 50| 49440|   Teacher|\n",
            "|Female| 49| 91901|  Engineer|\n",
            "+------+---+------+----------+\n",
            "only showing top 20 rows\n",
            "\n"
          ]
        }
      ]
    },
    {
      "cell_type": "code",
      "source": [
        "df_from_rdd.select(\"age\", \"profession\").show()\n"
      ],
      "metadata": {
        "colab": {
          "base_uri": "https://localhost:8080/"
        },
        "id": "zzYHRLjOMsAc",
        "outputId": "ef3a6709-7f47-4c19-f5ae-ac05a802f114"
      },
      "execution_count": null,
      "outputs": [
        {
          "output_type": "stream",
          "name": "stdout",
          "text": [
            "+---+----------+\n",
            "|age|profession|\n",
            "+---+----------+\n",
            "| 53|   Teacher|\n",
            "| 38|    Doctor|\n",
            "| 63|  Engineer|\n",
            "| 49|    Lawyer|\n",
            "| 33|    Doctor|\n",
            "| 24|  Engineer|\n",
            "| 52|  Engineer|\n",
            "| 32|    Doctor|\n",
            "| 45|    Lawyer|\n",
            "| 55|    Lawyer|\n",
            "| 22|    Doctor|\n",
            "| 33|    Lawyer|\n",
            "| 45|  Engineer|\n",
            "| 47|   Teacher|\n",
            "| 18|   Teacher|\n",
            "| 46|    Doctor|\n",
            "| 31|    Lawyer|\n",
            "| 56|    Doctor|\n",
            "| 41|  Engineer|\n",
            "| 42|  Engineer|\n",
            "+---+----------+\n",
            "only showing top 20 rows\n",
            "\n"
          ]
        }
      ]
    },
    {
      "cell_type": "code",
      "source": [
        "from pyspark.sql import functions as F\n",
        "\n",
        "df_from_rdd.select(F.avg(\"income\"), F.max(\"age\")).show()\n"
      ],
      "metadata": {
        "colab": {
          "base_uri": "https://localhost:8080/"
        },
        "id": "4W1UUfRcMtoE",
        "outputId": "81ff74ad-62d0-4a99-a409-aa0b81c1f023"
      },
      "execution_count": null,
      "outputs": [
        {
          "output_type": "stream",
          "name": "stdout",
          "text": [
            "+------------+--------+\n",
            "| avg(income)|max(age)|\n",
            "+------------+--------+\n",
            "|84992.794062|      64|\n",
            "+------------+--------+\n",
            "\n"
          ]
        }
      ]
    },
    {
      "cell_type": "code",
      "source": [
        "df_from_rdd.groupBy(\"gender\", \"profession\").agg(F.max(\"income\")).show()\n"
      ],
      "metadata": {
        "colab": {
          "base_uri": "https://localhost:8080/"
        },
        "id": "yb8IJ5sqMvER",
        "outputId": "eb2fa013-0f14-4a34-fa0f-9aaab7fb1ec1"
      },
      "execution_count": null,
      "outputs": [
        {
          "output_type": "stream",
          "name": "stdout",
          "text": [
            "+------+----------+-----------+\n",
            "|gender|profession|max(income)|\n",
            "+------+----------+-----------+\n",
            "|Female|    Doctor|      99999|\n",
            "|Female|  Engineer|      99999|\n",
            "|Female|    Lawyer|      99999|\n",
            "|Female|   Teacher|      99999|\n",
            "|  Male|    Doctor|      99997|\n",
            "|  Male|  Engineer|      99998|\n",
            "|  Male|    Lawyer|      99999|\n",
            "|  Male|   Teacher|      99999|\n",
            "+------+----------+-----------+\n",
            "\n"
          ]
        }
      ]
    },
    {
      "cell_type": "code",
      "source": [
        "pivot_df = df_from_rdd.groupBy(\"gender\", \"profession\").count().show()\n"
      ],
      "metadata": {
        "colab": {
          "base_uri": "https://localhost:8080/"
        },
        "id": "1YIjevG8Mwck",
        "outputId": "fa795cb5-2d1b-4802-a069-395e5164ed27"
      },
      "execution_count": null,
      "outputs": [
        {
          "output_type": "stream",
          "name": "stdout",
          "text": [
            "+------+----------+------+\n",
            "|gender|profession| count|\n",
            "+------+----------+------+\n",
            "|Female|    Doctor|125635|\n",
            "|Female|   Teacher|125471|\n",
            "|  Male|    Lawyer|125124|\n",
            "|  Male|   Teacher|124900|\n",
            "|Female|  Engineer|124658|\n",
            "|Female|    Lawyer|124341|\n",
            "|  Male|    Doctor|125525|\n",
            "|  Male|  Engineer|124346|\n",
            "+------+----------+------+\n",
            "\n"
          ]
        }
      ]
    },
    {
      "cell_type": "code",
      "source": [
        "df_with_ratio = df_from_rdd.withColumn(\"income_per_age\", df_from_rdd.income / df_from_rdd.age)\n",
        "df_with_ratio.show()\n"
      ],
      "metadata": {
        "colab": {
          "base_uri": "https://localhost:8080/"
        },
        "id": "HSrON8fTMxx7",
        "outputId": "d3d83474-3096-4b5d-8523-69940d82b76b"
      },
      "execution_count": null,
      "outputs": [
        {
          "output_type": "stream",
          "name": "stdout",
          "text": [
            "+------+---+------+----------+------------------+\n",
            "|gender|age|income|profession|    income_per_age|\n",
            "+------+---+------+----------+------------------+\n",
            "|  Male| 53|146783|   Teacher| 2769.490566037736|\n",
            "|  Male| 38|102661|    Doctor|2701.6052631578946|\n",
            "|  Male| 63| 27239|  Engineer|432.36507936507934|\n",
            "|  Male| 49|133171|    Lawyer|2717.7755102040815|\n",
            "|Female| 33|144383|    Doctor| 4375.242424242424|\n",
            "|Female| 24| 95867|  Engineer|3994.4583333333335|\n",
            "|  Male| 52|112093|  Engineer|2155.6346153846152|\n",
            "|  Male| 32| 50041|    Doctor|        1563.78125|\n",
            "|Female| 45| 26404|    Lawyer| 586.7555555555556|\n",
            "|  Male| 55| 42273|    Lawyer|             768.6|\n",
            "|Female| 22| 37125|    Doctor|            1687.5|\n",
            "|Female| 33|130449|    Lawyer|            3953.0|\n",
            "|Female| 45| 29300|  Engineer| 651.1111111111111|\n",
            "|Female| 47| 76500|   Teacher| 1627.659574468085|\n",
            "|Female| 18|107528|   Teacher| 5973.777777777777|\n",
            "|Female| 46| 81486|    Doctor|1771.4347826086957|\n",
            "|  Male| 31| 76713|    Lawyer|2474.6129032258063|\n",
            "|  Male| 56| 95985|    Doctor| 1714.017857142857|\n",
            "|  Male| 41| 78577|  Engineer|1916.5121951219512|\n",
            "|  Male| 42| 23073|  Engineer| 549.3571428571429|\n",
            "+------+---+------+----------+------------------+\n",
            "only showing top 20 rows\n",
            "\n"
          ]
        }
      ]
    },
    {
      "cell_type": "code",
      "source": [
        "df_with_ratio = df_with_ratio.withColumnRenamed(\"income_per_age\", \"rub_per_year\")\n",
        "df_with_ratio.show()\n"
      ],
      "metadata": {
        "colab": {
          "base_uri": "https://localhost:8080/"
        },
        "id": "KLUS8AsuMzOu",
        "outputId": "5e70e35a-c036-41bb-aad0-abcbce522d6b"
      },
      "execution_count": null,
      "outputs": [
        {
          "output_type": "stream",
          "name": "stdout",
          "text": [
            "+------+---+------+----------+------------------+\n",
            "|gender|age|income|profession|      rub_per_year|\n",
            "+------+---+------+----------+------------------+\n",
            "|  Male| 53|146783|   Teacher| 2769.490566037736|\n",
            "|  Male| 38|102661|    Doctor|2701.6052631578946|\n",
            "|  Male| 63| 27239|  Engineer|432.36507936507934|\n",
            "|  Male| 49|133171|    Lawyer|2717.7755102040815|\n",
            "|Female| 33|144383|    Doctor| 4375.242424242424|\n",
            "|Female| 24| 95867|  Engineer|3994.4583333333335|\n",
            "|  Male| 52|112093|  Engineer|2155.6346153846152|\n",
            "|  Male| 32| 50041|    Doctor|        1563.78125|\n",
            "|Female| 45| 26404|    Lawyer| 586.7555555555556|\n",
            "|  Male| 55| 42273|    Lawyer|             768.6|\n",
            "|Female| 22| 37125|    Doctor|            1687.5|\n",
            "|Female| 33|130449|    Lawyer|            3953.0|\n",
            "|Female| 45| 29300|  Engineer| 651.1111111111111|\n",
            "|Female| 47| 76500|   Teacher| 1627.659574468085|\n",
            "|Female| 18|107528|   Teacher| 5973.777777777777|\n",
            "|Female| 46| 81486|    Doctor|1771.4347826086957|\n",
            "|  Male| 31| 76713|    Lawyer|2474.6129032258063|\n",
            "|  Male| 56| 95985|    Doctor| 1714.017857142857|\n",
            "|  Male| 41| 78577|  Engineer|1916.5121951219512|\n",
            "|  Male| 42| 23073|  Engineer| 549.3571428571429|\n",
            "+------+---+------+----------+------------------+\n",
            "only showing top 20 rows\n",
            "\n"
          ]
        }
      ]
    },
    {
      "cell_type": "code",
      "source": [
        "df_without_ratio = df_with_ratio.drop(\"rub_per_year\")\n",
        "df_without_ratio.show()\n"
      ],
      "metadata": {
        "colab": {
          "base_uri": "https://localhost:8080/"
        },
        "id": "8mG7nviTM0_G",
        "outputId": "46edbf16-d7f8-4fdd-8773-27ae96a70845"
      },
      "execution_count": null,
      "outputs": [
        {
          "output_type": "stream",
          "name": "stdout",
          "text": [
            "+------+---+------+----------+\n",
            "|gender|age|income|profession|\n",
            "+------+---+------+----------+\n",
            "|  Male| 53|146783|   Teacher|\n",
            "|  Male| 38|102661|    Doctor|\n",
            "|  Male| 63| 27239|  Engineer|\n",
            "|  Male| 49|133171|    Lawyer|\n",
            "|Female| 33|144383|    Doctor|\n",
            "|Female| 24| 95867|  Engineer|\n",
            "|  Male| 52|112093|  Engineer|\n",
            "|  Male| 32| 50041|    Doctor|\n",
            "|Female| 45| 26404|    Lawyer|\n",
            "|  Male| 55| 42273|    Lawyer|\n",
            "|Female| 22| 37125|    Doctor|\n",
            "|Female| 33|130449|    Lawyer|\n",
            "|Female| 45| 29300|  Engineer|\n",
            "|Female| 47| 76500|   Teacher|\n",
            "|Female| 18|107528|   Teacher|\n",
            "|Female| 46| 81486|    Doctor|\n",
            "|  Male| 31| 76713|    Lawyer|\n",
            "|  Male| 56| 95985|    Doctor|\n",
            "|  Male| 41| 78577|  Engineer|\n",
            "|  Male| 42| 23073|  Engineer|\n",
            "+------+---+------+----------+\n",
            "only showing top 20 rows\n",
            "\n"
          ]
        }
      ]
    },
    {
      "cell_type": "code",
      "source": [
        "df_filtered = df_without_ratio.filter(df_without_ratio.age >= 18)\n",
        "df_filtered.show()\n"
      ],
      "metadata": {
        "colab": {
          "base_uri": "https://localhost:8080/"
        },
        "id": "YkHgsHPeM2Bs",
        "outputId": "586f9da5-133b-443e-dc20-94305cfa8b4b"
      },
      "execution_count": null,
      "outputs": [
        {
          "output_type": "stream",
          "name": "stdout",
          "text": [
            "+------+---+------+----------+\n",
            "|gender|age|income|profession|\n",
            "+------+---+------+----------+\n",
            "|  Male| 53|146783|   Teacher|\n",
            "|  Male| 38|102661|    Doctor|\n",
            "|  Male| 63| 27239|  Engineer|\n",
            "|  Male| 49|133171|    Lawyer|\n",
            "|Female| 33|144383|    Doctor|\n",
            "|Female| 24| 95867|  Engineer|\n",
            "|  Male| 52|112093|  Engineer|\n",
            "|  Male| 32| 50041|    Doctor|\n",
            "|Female| 45| 26404|    Lawyer|\n",
            "|  Male| 55| 42273|    Lawyer|\n",
            "|Female| 22| 37125|    Doctor|\n",
            "|Female| 33|130449|    Lawyer|\n",
            "|Female| 45| 29300|  Engineer|\n",
            "|Female| 47| 76500|   Teacher|\n",
            "|Female| 18|107528|   Teacher|\n",
            "|Female| 46| 81486|    Doctor|\n",
            "|  Male| 31| 76713|    Lawyer|\n",
            "|  Male| 56| 95985|    Doctor|\n",
            "|  Male| 41| 78577|  Engineer|\n",
            "|  Male| 42| 23073|  Engineer|\n",
            "+------+---+------+----------+\n",
            "only showing top 20 rows\n",
            "\n"
          ]
        }
      ]
    },
    {
      "cell_type": "code",
      "source": [
        "from pyspark.sql.types import IntegerType, DoubleType\n",
        "\n",
        "# Преобразование столбцов в числовой тип\n",
        "df_filtered = df_filtered.withColumn(\"age\", df_filtered[\"age\"].cast(IntegerType()))\n",
        "df_filtered = df_filtered.withColumn(\"income\", df_filtered[\"income\"].cast(DoubleType()))\n",
        "\n",
        "# Проверьте схему данных после преобразования\n",
        "df_filtered.printSchema()\n",
        "\n",
        "from pyspark.ml.feature import VectorAssembler, StringIndexer\n",
        "from pyspark.ml.regression import LinearRegression\n",
        "from pyspark.ml.evaluation import RegressionEvaluator\n",
        "\n",
        "# Кодирование категориальных переменных Gender и Profession\n",
        "gender_indexer = StringIndexer(inputCol=\"gender\", outputCol=\"genderindex\")\n",
        "profession_indexer = StringIndexer(inputCol=\"profession\", outputCol=\"professionindex\")\n",
        "\n",
        "# Применение индексирования\n",
        "df_filtered_indexed = gender_indexer.fit(df_filtered).transform(df_filtered)\n",
        "df_filtered_indexed = profession_indexer.fit(df_filtered_indexed).transform(df_filtered_indexed)\n",
        "\n",
        "# Сбор всех признаков в вектор\n",
        "assembler = VectorAssembler(inputCols=[\"age\", \"genderindex\", \"professionindex\"], outputCol=\"features\")\n",
        "df_ml = assembler.transform(df_filtered_indexed).select(\"features\", \"income\")\n",
        "\n",
        "# Разделение на обучающую и тестовую выборки\n",
        "train, test = df_ml.randomSplit([0.8, 0.2], seed=42)\n",
        "\n",
        "# Обучение модели линейной регрессии\n",
        "lr = LinearRegression(featuresCol=\"features\", labelCol=\"income\")\n",
        "model = lr.fit(train)\n",
        "\n",
        "# Прогнозирование на тестовых данных\n",
        "predictions = model.transform(test)\n",
        "\n",
        "# Оценка модели\n",
        "evaluator = RegressionEvaluator(labelCol=\"income\", predictionCol=\"prediction\")\n",
        "rmse = evaluator.evaluate(predictions, {evaluator.metricName: \"rmse\"})\n",
        "mae = evaluator.evaluate(predictions, {evaluator.metricName: \"mae\"})\n",
        "r2 = evaluator.evaluate(predictions, {evaluator.metricName: \"r2\"})\n",
        "\n",
        "# Вывод метрик\n",
        "print(f\"RMSE: {rmse:.2f}, MAE: {mae:.2f}, R2: {r2:.2f}\")\n"
      ],
      "metadata": {
        "colab": {
          "base_uri": "https://localhost:8080/"
        },
        "id": "Vz-IDMpSM3HD",
        "outputId": "91a0c7fa-bb86-4769-89f6-13d6e5cf822f"
      },
      "execution_count": null,
      "outputs": [
        {
          "output_type": "stream",
          "name": "stdout",
          "text": [
            "root\n",
            " |-- gender: string (nullable = true)\n",
            " |-- age: integer (nullable = true)\n",
            " |-- income: double (nullable = true)\n",
            " |-- profession: string (nullable = true)\n",
            "\n",
            "RMSE: 37529.83, MAE: 32524.87, R2: -0.00\n"
          ]
        }
      ]
    }
  ]
}